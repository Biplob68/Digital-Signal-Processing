{
  "nbformat": 4,
  "nbformat_minor": 0,
  "metadata": {
    "colab": {
      "name": "Digital Signal Processing.ipynb",
      "provenance": [],
      "collapsed_sections": []
    },
    "kernelspec": {
      "name": "python3",
      "display_name": "Python 3"
    },
    "language_info": {
      "name": "python"
    }
  },
  "cells": [
    {
      "cell_type": "code",
      "metadata": {
        "id": "QRtZP3OuPjLu"
      },
      "source": [
        "import matplotlib.pyplot as plt\n",
        "import numpy as np"
      ],
      "execution_count": null,
      "outputs": []
    },
    {
      "cell_type": "markdown",
      "metadata": {
        "id": "Ft3iBFtS0NIz"
      },
      "source": [
        "#### **1. Generate and Plot the Elementary Signals in DSP**"
      ]
    },
    {
      "cell_type": "code",
      "metadata": {
        "colab": {
          "base_uri": "https://localhost:8080/",
          "height": 1000
        },
        "id": "SX5VdkZ00YzU",
        "outputId": "0eb20cda-1a70-4bf0-b20e-fd5b9a01547e"
      },
      "source": [
        "# Impulse Signal   ----> if n = 0 the signal value is 1, otherwise the vsignal value is 0.\n",
        "\n",
        "x=[]\n",
        "s = np.zeros(41)\n",
        "s.shape\n",
        "s[20] = 1\n",
        "x= np.arange(-20, 21)\n",
        "\n",
        "plt.title(\"Impulse Signal Curve\")\n",
        "plt.stem(x, s)\n",
        "plt.legend(['Impulse signal'])\n",
        "plt.show()\n",
        "\n",
        "\n",
        "#Unit step ---- if n >= 0 the signal value is 1, if n<0 the signal value is 0.\n",
        "s = np.ones(31)\n",
        "x = np.arange(0, 31, 1)\n",
        "plt.title(\"Unit step signal Curve\")\n",
        "plt.stem(x, s) \n",
        "plt.legend(['Unit step'])\n",
        "plt.show()\n",
        "\n",
        "\n",
        "# Ramp signal --->the signal will be increase if the input is n>=0, otherwise signal is Zero\n",
        "s = []\n",
        "for i in range(-10, 21):\n",
        "  if i >= 0:\n",
        "    s.append(i)\n",
        "  else:\n",
        "    s.append(0)\n",
        "    \n",
        "x = []\n",
        "x = np.arange(-10,21)\n",
        "plt.title(\"Ramp Signal Curve\")\n",
        "plt.stem(x, s)\n",
        "plt.legend(['Ramp signal'])\n",
        "plt.show()\n",
        "\n",
        "\n",
        "# for i in range(-10, 21):\n",
        "#   x.append(i)\n",
        "\n",
        "\n",
        "#Exponential Signal\n",
        "\n",
        "# Generating time data using arange function from numpy\n",
        "time = np.arange(-2,2, 0.0001)\n",
        "constant = 0.8\n",
        "\n",
        "# Finding amplitude at each time\n",
        "amplitude_grow = constant * np.exp(time)\n",
        "amplitude_decay = constant * np.exp(-time)\n",
        "\n",
        "# Plotting time vs amplitude using plot function from pyplot\n",
        "plt.plot(time, amplitude_grow, time, amplitude_decay)\n",
        "\n",
        "\n",
        "plt.title('Exponential Curve')\n",
        "\n",
        "# Showing legends\n",
        "plt.legend(['Growing Exponential','Decaying Exponential'])\n",
        "\n",
        "\n",
        "# Highlighting axis at x=0 and y=0\n",
        "plt.axhline(y=0, color='k')\n",
        "plt.axvline(x=0, color='k')\n",
        "\n",
        "\n",
        "plt.show()\n"
      ],
      "execution_count": null,
      "outputs": [
        {
          "output_type": "stream",
          "text": [
            "/usr/local/lib/python3.7/dist-packages/ipykernel_launcher.py:10: UserWarning: In Matplotlib 3.3 individual lines on a stem plot will be added as a LineCollection instead of individual lines. This significantly improves the performance of a stem plot. To remove this warning and switch to the new behaviour, set the \"use_line_collection\" keyword argument to True.\n",
            "  # Remove the CWD from sys.path while we load stuff.\n"
          ],
          "name": "stderr"
        },
        {
          "output_type": "display_data",
          "data": {
            "image/png": "[encoded data removed]",
            "text/plain": [
              "<Figure size 432x288 with 1 Axes>"
            ]
          },
          "metadata": {
            "tags": [],
            "needs_background": "light"
          }
        },
        {
          "output_type": "stream",
          "text": [
            "/usr/local/lib/python3.7/dist-packages/ipykernel_launcher.py:19: UserWarning: In Matplotlib 3.3 individual lines on a stem plot will be added as a LineCollection instead of individual lines. This significantly improves the performance of a stem plot. To remove this warning and switch to the new behaviour, set the \"use_line_collection\" keyword argument to True.\n"
          ],
          "name": "stderr"
        },
        {
          "output_type": "display_data",
          "data": {
            "image/png": "[encoded data removed]",
            "text/plain": [
              "<Figure size 432x288 with 1 Axes>"
            ]
          },
          "metadata": {
            "tags": [],
            "needs_background": "light"
          }
        },
        {
          "output_type": "stream",
          "text": [
            "/usr/local/lib/python3.7/dist-packages/ipykernel_launcher.py:35: UserWarning: In Matplotlib 3.3 individual lines on a stem plot will be added as a LineCollection instead of individual lines. This significantly improves the performance of a stem plot. To remove this warning and switch to the new behaviour, set the \"use_line_collection\" keyword argument to True.\n"
          ],
          "name": "stderr"
        },
        {
          "output_type": "display_data",
          "data": {
            "image/png": "[encoded data removed]",
            "text/plain": [
              "<Figure size 432x288 with 1 Axes>"
            ]
          },
          "metadata": {
            "tags": [],
            "needs_background": "light"
          }
        },
        {
          "output_type": "display_data",
          "data": {
            "image/png": "[encoded data removed]",
            "text/plain": [
              "<Figure size 432x288 with 1 Axes>"
            ]
          },
          "metadata": {
            "tags": [],
            "needs_background": "light"
          }
        }
      ]
    },
    {
      "cell_type": "markdown",
      "metadata": {
        "id": "eZAstEaXQdRJ"
      },
      "source": [
        "#### **2. Compute the Linear Convolution of Two Signal** :"
      ]
    },
    {
      "cell_type": "code",
      "metadata": {
        "colab": {
          "base_uri": "https://localhost:8080/"
        },
        "id": "mKDTTuAiRGP5",
        "outputId": "3744719f-9226-4844-d13c-a6d1f52038fa"
      },
      "source": [
        "# Linera convolution of two signal \n",
        "\n",
        "\n",
        "x = [1, 2, 3, 4]   # Input signal\n",
        "h = [1, 2, 3, 4]   # Impulse response\n",
        "\n",
        "l1 = len(x)\n",
        "l2 = len(h)\n",
        "\n",
        "convolution = [0 for i in range(l1 + l2 - 1)]  # Array filled with zeros\n",
        "\n",
        "\n",
        "for row in range(l1):\n",
        "  for col in range(l2):\n",
        "    convolution[row + col] += x[row] * h[col]\n",
        "\n",
        "print(\"Linear convolution of the two signal: \")\n",
        "print(convolution)"
      ],
      "execution_count": null,
      "outputs": [
        {
          "output_type": "stream",
          "text": [
            "Linear convolution of the two signal: \n",
            "[1, 4, 10, 20, 25, 24, 16]\n"
          ],
          "name": "stdout"
        }
      ]
    },
    {
      "cell_type": "markdown",
      "metadata": {
        "id": "oEYUJhYkWrNN"
      },
      "source": [
        "#### **3. Compute the cross-correlation sequence of two signals x(n) and h(n).**"
      ]
    },
    {
      "cell_type": "code",
      "metadata": {
        "colab": {
          "base_uri": "https://localhost:8080/"
        },
        "id": "Npv0Pqz0W6kS",
        "outputId": "94b18c9a-d040-43de-c8a3-6cb99abc4683"
      },
      "source": [
        "# Cross-Correlation of two signal\n",
        "\n",
        "x = [0,0, 2,-1,3,7,1,2,-3,0,0]      # Input signal x\n",
        "y = [0, 0,1,-1,2,-2,4,1,-2,5,0,0]   # Input signal y\n",
        "\n",
        "l1 = len(x)\n",
        "l2 = len(y)\n",
        "\n",
        "cross_correlation = [0 for i in range(l1 + l2 - 1)]   # Array(output) filled with zeros\n",
        "\n",
        " \n",
        "y = np.flip(y) # Reverse y\n",
        "\n",
        "for row in range(l1):\n",
        "  for col in range(l2):\n",
        "    cross_correlation[row + col] += x[row] * y[col]\n",
        "\n",
        "print(\"Cross Correlation of the sequence:\",cross_correlation)\n",
        "# print(cross_correlation)"
      ],
      "execution_count": null,
      "outputs": [
        {
          "output_type": "stream",
          "text": [
            "Cross Correlation of the sequence: [0, 0, 0, 0, 10, -9, 19, 36, -14, 33, 0, 7, 13, -18, 16, -7, 5, -3, 0, 0, 0, 0]\n"
          ],
          "name": "stdout"
        }
      ]
    },
    {
      "cell_type": "markdown",
      "metadata": {
        "id": "xMGrIr__nrLF"
      },
      "source": [
        "#### **4. Determine the autocorrelation sequence of the signal x(n).**"
      ]
    },
    {
      "cell_type": "code",
      "metadata": {
        "colab": {
          "base_uri": "https://localhost:8080/"
        },
        "id": "0j3GXP_4n44z",
        "outputId": "c51db037-219c-45b4-bd86-abbb8430ff88"
      },
      "source": [
        "# Auto Correlation of signal x(n)\n",
        "\n",
        "x = [1, 2, 1, 1]\n",
        "\n",
        "x1 = x             # Cooy x into y \n",
        "x1 = np.flip(x1)    # Reverse the array y\n",
        "\n",
        "l1 = len(x)\n",
        "l2 = len(x1)\n",
        "\n",
        "auto_correlation = [0 for i in range(l1 + l2 - 1)]   # # Array(output) filled with zeros\n",
        "\n",
        "for row in range(l1):\n",
        "  for col in range(l2):\n",
        "    auto_correlation[row + col] += x[row] * x1[col]\n",
        "\n",
        "print(\"Auto Correlation of signal x: \", auto_correlation)\n"
      ],
      "execution_count": null,
      "outputs": [
        {
          "output_type": "stream",
          "text": [
            "Auto Correlation of signal x:  [1, 3, 5, 7, 5, 3, 1]\n"
          ],
          "name": "stdout"
        }
      ]
    },
    {
      "cell_type": "markdown",
      "metadata": {
        "id": "q2kkWrLIupP5"
      },
      "source": [
        "#### **5. Discrete Fourier Transform (DFT) of a signal using DFT equation.**"
      ]
    },
    {
      "cell_type": "markdown",
      "metadata": {
        "id": "KsB8Env7v--q"
      },
      "source": [
        ""
      ]
    },
    {
      "cell_type": "code",
      "metadata": {
        "colab": {
          "base_uri": "https://localhost:8080/"
        },
        "id": "4WdZCHN5wAw9",
        "outputId": "1f29e842-c8c0-4de8-e169-5b6139c07c80"
      },
      "source": [
        "# Function to find DFT of a signal x(n)\n",
        "def DFT(x):\n",
        "  N = len(x);\n",
        "  List = []       # Declear an empty list to store value\n",
        "\n",
        "  # Nested Loop to find out X(k)  \n",
        "  for k in range(N):\n",
        "    value = 0;\n",
        "    for n in range(N):\n",
        "      value += x[n] * np.exp((-2j * np.pi * k * n) / N) \n",
        "\n",
        "    List.append(value)   \n",
        "  return List   \n",
        "\n",
        "\n",
        "# Main body Function\n",
        "\n",
        "x = [2, -1, 3, 7, 1, 2, -3]   # Input Signal\n",
        "\n",
        "dft = DFT(x)\n",
        "print(\"DFT of The Signal x: \")\n",
        "print(dft) \n"
      ],
      "execution_count": null,
      "outputs": [
        {
          "output_type": "stream",
          "text": [
            "DFT of The Signal x: \n",
            "[(11+0j), (-8.814314820435857-5.1418933118232335j), (3.3731578111830305+3.1750168095620896j), (6.9411570092528345-5.935503468858023j), (6.941157009252824+5.935503468858032j), (3.373157811183029-3.175016809562078j), (-8.814314820435856+5.141893311823223j)]\n"
          ],
          "name": "stdout"
        }
      ]
    },
    {
      "cell_type": "markdown",
      "metadata": {
        "id": "nQpE_yRH8uWp"
      },
      "source": [
        "#### **6. Inverse DFT of the signal obtained in (5).**"
      ]
    },
    {
      "cell_type": "code",
      "metadata": {
        "colab": {
          "base_uri": "https://localhost:8080/"
        },
        "id": "8ES6J5Ou9Syl",
        "outputId": "929e29dc-5bd3-48f1-9e8b-c50f158db10f"
      },
      "source": [
        "# Function to find IDFT\n",
        "def IDFT(List):\n",
        "  N = len(List)\n",
        "  x = []\n",
        "\n",
        "  for n in range(N):\n",
        "    value =0\n",
        "    for k in range(N):\n",
        "      value += List[k] * np.exp((2j * np.pi * k * n) / N)\n",
        "    value /= N\n",
        "    x.append(value)\n",
        "\n",
        "  return x;      \n",
        "\n",
        "# Print value of IDFT from DFT\n",
        "idft = IDFT(dft)\n",
        "print(\"Value of IDFT: \")\n",
        "print(idft)\n",
        "print(\" \")\n",
        "\n",
        "\n",
        "# Round value to check \n",
        "Array = [round(i.real) for i in idft]\n",
        "print(\"After taking the real part rounding the double values: \")\n",
        "print(Array)\n",
        "print(\" \")\n",
        "\n",
        "# Cross check value\n",
        "if Array == x:\n",
        "  print(\"After Converting the DFT to IDFT the value is matched!\")\n",
        "else :\n",
        "  print(\"Not macthed!\")  "
      ],
      "execution_count": null,
      "outputs": [
        {
          "output_type": "stream",
          "text": [
            "Value of IDFT: \n",
            "[(2.0000000000000004+1.395708945243054e-15j), (-0.9999999999999984-2.0301221021717147e-15j), (2.9999999999999987-2.537652627714643e-15j), (6.9999999999999964+2.8548592061789737e-16j), (1.0000000000000002+1.0150610510858574e-15j), (1.999999999999996+0j), (-2.9999999999999982-1.0785023667787234e-15j)]\n",
            " \n",
            "After taking the real part rounding the double values: \n",
            "[2, -1, 3, 7, 1, 2, -3]\n",
            " \n",
            "After Converting the DFT to IDFT the value is matched!\n"
          ],
          "name": "stdout"
        }
      ]
    },
    {
      "cell_type": "markdown",
      "metadata": {
        "id": "toR3g0KIJGHa"
      },
      "source": [
        "##### **7. By means of the DFT and IDFT, the response of the FIR filter with impulse response h(n) to the input sequence x(n).**"
      ]
    },
    {
      "cell_type": "code",
      "metadata": {
        "colab": {
          "base_uri": "https://localhost:8080/"
        },
        "id": "9cGmutazJkig",
        "outputId": "752741ac-bb9a-4133-d454-05c85084f4a6"
      },
      "source": [
        "x = [1, 2, 3, 4, 5]\n",
        "h = [1, 2, 3, 4, 5]\n",
        "\n",
        "\n",
        "print(\"Linear convolution of x and h: \")\n",
        "print(np.convolve(h, x)) # using convolution library function\n",
        "print(\" \")\n",
        "\n",
        " \n",
        "padding = len(h) + len(x) - 1\n",
        "\n",
        "while True:\n",
        "  if len(x) != padding:\n",
        "    x.append(0)\n",
        "  else:\n",
        "    break\n",
        "\n",
        "while True:\n",
        "  if len(h) != padding:\n",
        "    h.append(0)\n",
        "  else:\n",
        "    break\n",
        "\n",
        "H = DFT(h) \n",
        "X = DFT(x) \n",
        "print(\"DFT of h: \")\n",
        "print(H)\n",
        "print(\" \")\n",
        "print(\"DFT of x: \")\n",
        "print(X)\n",
        "print(\" \")\n",
        "\n",
        "\n",
        "List = [0 for i in range(len(X))]   # List filled with zeros \n",
        "\n",
        "for i in range(len(X)):\n",
        "  List[i] = H[i] * X[i]  \n",
        "\n",
        "idft = IDFT(List)\n",
        "\n",
        "print(\"After IDFT the value: \")\n",
        "print(idft)\n",
        "print(\" \")\n",
        "\n",
        "print(\"Again Linear convolution after performing IDFT: \")\n",
        "List = [round(i.real) for i in idft]\n",
        "print(List)"
      ],
      "execution_count": null,
      "outputs": [
        {
          "output_type": "stream",
          "text": [
            "Linear convolution of x and h: \n",
            "[ 1  4 10 20 35 44 46 40 25]\n",
            " \n",
            "DFT of h: \n",
            "[(15+0j), (-3.645429684690794-9.414200810175803j), (0.3584407085710235+3.682363727569029j), (3.1086244689504383e-15-3.4641016151377566j), (0.28698897611976837+2.704259692331565j), (0.2869889761197659-2.7042596923315685j), (-6.661338147750939e-15+3.46410161513775j), (0.3584407085710266-3.6823637275690237j), (-3.6454296846908054+9.414200810175792j)]\n",
            " \n",
            "DFT of x: \n",
            "[(15+0j), (-3.645429684690794-9.414200810175803j), (0.3584407085710235+3.682363727569029j), (3.1086244689504383e-15-3.4641016151377566j), (0.28698897611976837+2.704259692331565j), (0.2869889761197659-2.7042596923315685j), (-6.661338147750939e-15+3.46410161513775j), (0.3584407085710266-3.6823637275690237j), (-3.6454296846908054+9.414200810175792j)]\n",
            " \n",
            "After IDFT the value: \n",
            "[(1.0000000000000284-2.3684757858670004e-14j), (4.000000000000009-3.335603398429359e-14j), (9.999999999999995-1.9737298215558338e-14j), (19.999999999999993-1.2631870857957336e-14j), (34.99999999999997-3.157967714489334e-15j), (43.999999999999986+2.0526790144180672e-14j), (45.999999999999986-2.4474249787292338e-14j), (39.999999999999986+4.736951571734001e-15j), (24.999999999999996+1.7368822429691336e-14j)]\n",
            " \n",
            "Again Linear convolution after performing IDFT: \n",
            "[1, 4, 10, 20, 35, 44, 46, 40, 25]\n"
          ],
          "name": "stdout"
        }
      ]
    },
    {
      "cell_type": "markdown",
      "metadata": {
        "id": "HusIqi0qU8GU"
      },
      "source": [
        "#### **8. Fast Fourier Transform (FFT) using divide and conquer approach**"
      ]
    },
    {
      "cell_type": "code",
      "metadata": {
        "colab": {
          "base_uri": "https://localhost:8080/"
        },
        "id": "fton_uVtVLLw",
        "outputId": "f7605e6d-bb6c-4b28-8482-af8a9c364440"
      },
      "source": [
        "x = [1, 2, 3, 4, 5, 6]   #Input signal\n",
        "N = len(x)\n",
        "\n",
        "#Factor: 2 rows, 3 columns\n",
        "L = 2\n",
        "M = 3\n",
        "\n",
        "#Store value into array column-wise\n",
        "Array = np.zeros((2, 3))\n",
        "for i in range(L):\n",
        "  for j in range(M):\n",
        "    index = j * L\n",
        "    index += i\n",
        "    Array[i][j] = x[index]\n",
        "         \n",
        "dft = [DFT(Array[i]) for i in range(L)]\n",
        "\n",
        "for l in range(L):\n",
        "  for q in range(M):\n",
        "    dft[l][q] = dft[l][q] * np.exp((-2j * np.pi * l * q) / N)\n",
        "    \n",
        "for j in range(M):\n",
        "  col_element = [dft[i][j] for i in range(L)]\n",
        "  col_element = DFT(col_element)\n",
        "\n",
        "  for i in range(L):\n",
        "    dft[i][j] = col_element[i]\n",
        "\n",
        "Array = [] \n",
        "\n",
        "for i in range(len(dft)):\n",
        "  for j in range(len(dft[0])):\n",
        "    Array.append(dft[i][j])\n",
        "\n",
        "\n",
        "print(\"Fast Fourier Transform(FFT) Using divide and Conquer Approach:\")\n",
        "print(Array) \n"
      ],
      "execution_count": null,
      "outputs": [
        {
          "output_type": "stream",
          "text": [
            "Fast Fourier Transform(FFT) Using divide and Conquer Approach:\n",
            "[(21+0j), (-3.000000000000005+5.196152422706631j), (-3.0000000000000027+1.7320508075688736j), (-3-1.4695761589768238e-15j), (-2.9999999999999982-1.7320508075688794j), (-2.9999999999999916-5.196152422706634j)]\n"
          ],
          "name": "stdout"
        }
      ]
    },
    {
      "cell_type": "markdown",
      "metadata": {
        "id": "k8Zu5HcgcqsB"
      },
      "source": [
        "#### **9. FFT of a given signal with N = 8 using Radix-2 algorithm.**"
      ]
    },
    {
      "cell_type": "code",
      "metadata": {
        "colab": {
          "base_uri": "https://localhost:8080/"
        },
        "id": "yJbAEYlmc5Nx",
        "outputId": "4be9b130-3353-4285-da21-ccac5b4c8988"
      },
      "source": [
        "def radix2(y):\n",
        "  \n",
        "  N = len(y)\n",
        "  if N == 2:            #Calculate DFT of 2 points \n",
        "    dft = DFT(y)\n",
        "    return dft\n",
        "\n",
        "  arra_even = []\n",
        "  arra_odd = []  \n",
        "\n",
        "  #Separated even and odd value into two list\n",
        "  i = 0\n",
        "  while i < N:\n",
        "    if i%2 == 0:\n",
        "      arra_even.append(y[i])\n",
        "    else:\n",
        "      arra_odd.append(y[i])\n",
        "    i += 1\n",
        "\n",
        "  # N/2 point DFT of x_even & x_odd   \n",
        "  Array_even = radix2(arra_even) \n",
        "  Array_odd = radix2(arra_odd)    \n",
        "\n",
        "\n",
        "  Array = [] \n",
        "  #Get first N / 2 terms\n",
        "  k = 0\n",
        "  while k < N / 2:\n",
        "    Array.append( np.exp((-2j * np.pi * k) / N) * Array_odd[k] + Array_even[k]) \n",
        "    k += 1\n",
        "\n",
        "  #Get last N / 2 terms\n",
        "  k = 0\n",
        "  while k < N / 2:\n",
        "    Array.append(Array_even[k] - np.exp((-2j * np.pi * k) / N) * Array_odd[k])\n",
        "    k += 1\n",
        "\n",
        "  return Array   #Get full N value   \n",
        "\n",
        "\n",
        "# Main body program\n",
        "x = [1, 2, 3, 4, 5, 6, 7, 8]   #Input \n",
        "ans = radix2(x)\n",
        "print(\"Fast Fourier Transform (FFT) of the signal x:\")\n",
        "print(\" \")\n",
        "print(ans)\n"
      ],
      "execution_count": null,
      "outputs": [
        {
          "output_type": "stream",
          "text": [
            "Fast Fourier Transform (FFT) of the signal x:\n",
            " \n",
            "[(36+0j), (-4.000000000000002+9.65685424949238j), (-4+4j), (-4.000000000000001+1.6568542494923788j), (-4+0j), (-3.9999999999999996-1.6568542494923801j), (-3.9999999999999996-4j), (-3.9999999999999973-9.65685424949238j)]\n"
          ],
          "name": "stdout"
        }
      ]
    }
  ]
}